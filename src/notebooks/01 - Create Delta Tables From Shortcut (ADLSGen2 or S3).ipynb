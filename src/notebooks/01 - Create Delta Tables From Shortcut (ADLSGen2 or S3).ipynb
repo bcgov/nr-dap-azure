{
 "cells": [
  {
   "cell_type": "markdown",
   "id": "81acf635-c2cf-4cc9-922b-9cc3e165e3cf",
   "metadata": {
    "nteract": {
     "transient": {
      "deleting": false
     }
    }
   },
   "source": [
    "### Spark session configuration\n",
    "This cell sets Spark session settings to enable _Verti-Parquet_ and _Optimize on Write_. More details about _Verti-Parquet_ and _Optimize on Write_ in tutorial document."
   ]
  },
  {
   "cell_type": "code",
   "execution_count": null,
   "id": "0d733acc-0f29-4f64-8469-b6be582527e0",
   "metadata": {
    "jupyter": {
     "outputs_hidden": false,
     "source_hidden": false
    },
    "microsoft": {
     "language": "python",
     "language_group": "synapse_pyspark"
    },
    "nteract": {
     "transient": {
      "deleting": false
     }
    }
   },
   "outputs": [],
   "source": [
    "# Copyright (c) Microsoft Corporation.\n",
    "# Licensed under the MIT License.\n",
    "\n",
    "spark.conf.set(\"spark.sql.parquet.vorder.enabled\", \"true\")\n",
    "spark.conf.set(\"spark.microsoft.delta.optimizeWrite.enabled\", \"true\")\n",
    "spark.conf.set(\"spark.microsoft.delta.optimizeWrite.binSize\", \"1073741824\")"
   ]
  },
  {
   "cell_type": "markdown",
   "id": "e5117ad7-efdf-40a3-abc0-513951a95df4",
   "metadata": {
    "nteract": {
     "transient": {
      "deleting": false
     }
    }
   },
   "source": [
    "### Fact - Sale\n",
    "\n",
    "This cell reads raw data from the _Files_ section of the lakehouse, adds additional columns for different date parts and the same information is being used to create partitioned fact delta table."
   ]
  },
  {
   "cell_type": "code",
   "execution_count": null,
   "id": "cf6339ee-d255-47d9-9728-a35b12215296",
   "metadata": {
    "jupyter": {
     "outputs_hidden": false,
     "source_hidden": false
    },
    "microsoft": {
     "language": "python",
     "language_group": "synapse_pyspark"
    },
    "nteract": {
     "transient": {
      "deleting": false
     }
    }
   },
   "outputs": [],
   "source": [
    "from pyspark.sql.functions import col, year, month, quarter\n",
    "\n",
    "table_name = 'ExternalStorage_Fact_Sales'\n",
    "\n",
    "df = spark.read.format(\"parquet\").load('Files/ExternalSource_Sales')\n",
    "df = df.withColumn('Year', year(col(\"InvoiceDateKey\")))\n",
    "df = df.withColumn('Quarter', quarter(col(\"InvoiceDateKey\")))\n",
    "df = df.withColumn('Month', month(col(\"InvoiceDateKey\")))"
   ]
  },
  {
   "cell_type": "code",
   "execution_count": null,
   "id": "0870d43f-98b8-4db2-a6ed-c51150f301af",
   "metadata": {
    "microsoft": {
     "language": "python",
     "language_group": "synapse_pyspark"
    }
   },
   "outputs": [],
   "source": [
    "from pyspark.sql import SparkSession\n",
    "from pyspark.sql.functions import udf\n",
    "from pyspark.sql.types import DateType\n",
    "import random\n",
    "import datetime\n",
    "\n",
    "\n",
    "# Function to generate random date between 2005 and 2014\n",
    "def random_date():\n",
    "    start_date = datetime.date(2005, 1, 1)\n",
    "    end_date = datetime.date(2014, 12, 31)\n",
    "    delta = end_date - start_date\n",
    "    random_days = random.randint(0, delta.days)\n",
    "    return start_date + datetime.timedelta(days=random_days)\n",
    "\n",
    "\n",
    "# Register UDF\n",
    "random_date_udf = udf(random_date, DateType())\n",
    "\n",
    "\n",
    "# Add new column with random dates\n",
    "df = df.withColumn(\"OrderDate\", random_date_udf())\n",
    "\n",
    "# Show DataFrame\n",
    "df.show()\n",
    "\n"
   ]
  },
  {
   "cell_type": "code",
   "execution_count": null,
   "id": "18e9a8c5-8a3b-45e8-b0ac-76502fa60d1f",
   "metadata": {
    "microsoft": {
     "language": "python",
     "language_group": "synapse_pyspark"
    }
   },
   "outputs": [],
   "source": [
    "#Write the dataframe\n",
    "df.write.mode(\"append\").format(\"delta\").partitionBy(\"Year\",\"Quarter\").save(\"Tables/\" + table_name)"
   ]
  }
 ],
 "metadata": {
  "dependencies": {
   "lakehouse": {
    "default_lakehouse": "eb4d92e5-a029-4969-b34e-8e783364c517",
    "default_lakehouse_name": "POC2_MultiSources",
    "default_lakehouse_workspace_id": "60c05f8a-37b5-4368-91cc-cc739ea7d16e",
    "known_lakehouses": [
     {
      "id": "eb4d92e5-a029-4969-b34e-8e783364c517"
     }
    ]
   }
  },
  "kernel_info": {
   "name": "synapse_pyspark"
  },
  "kernelspec": {
   "display_name": "Synapse PySpark",
   "language": "Python",
   "name": "synapse_pyspark"
  },
  "language_info": {
   "name": "python"
  },
  "microsoft": {
   "language": "python",
   "language_group": "synapse_pyspark",
   "ms_spell_check": {
    "ms_spell_check_language": "en"
   }
  },
  "notebook_environment": {},
  "nteract": {
   "version": "nteract-front-end@1.0.0"
  },
  "save_output": true,
  "spark_compute": {
   "compute_id": "/trident/default",
   "session_options": {
    "conf": {
     "spark.synapse.nbs.session.timeout": "1200000"
    },
    "enableDebugMode": false
   }
  },
  "synapse_widget": {
   "state": {},
   "version": "0.1"
  },
  "widgets": {}
 },
 "nbformat": 4,
 "nbformat_minor": 5
}
